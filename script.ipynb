{
 "cells": [
  {
   "cell_type": "markdown",
   "metadata": {},
   "source": [
    "# Аппроксимация математических величин \n",
    "Лабораторная работа 1 \n",
    "Тетенева Ольга ПИ19-1В"
   ]
  },
  {
   "cell_type": "markdown",
   "metadata": {},
   "source": [
    "Аппроксимация ПИ \n",
    "\n",
    "вероятность определяет количестсво точек которые попали внутрь радиуса деленные на все точки \n",
    "сторона квадрата равна диаметру круга, то есть width = 2R\n",
    "Геометрически:\n",
    "P = S(круга) / S(квадрата) = πR^2 / width^2 = πR^2 / (2R)^2 = π / 4\n",
    "Монте Карло:\n",
    "P = S(точек в круге) / S(точек в квадрате) = π / 4\n"
   ]
  },
  {
   "cell_type": "code",
   "execution_count": 3,
   "metadata": {},
   "outputs": [
    {
     "name": "stdout",
     "output_type": "stream",
     "text": [
      "3.1532\n"
     ]
    }
   ],
   "source": [
    "from tkinter import *\n",
    "from random import uniform\n",
    "from math import *\n",
    "\n",
    "R = 150 #радиус круга\n",
    "width = 2 * R #ширина квадрата равна диаметру круга\n",
    "hight = 2 * R #высота квадрата равна диаметру круга\n",
    "n = 10000 # кол-во точек\n",
    "\n",
    "\n",
    "# Создаем окно программы\n",
    "window = Tk()\n",
    "\n",
    "# Создаем область для рисования\n",
    "c = Canvas(window, width = 4 * R, height=4 * R, bg=\"black\")\n",
    "c.pack()\n",
    "\n",
    "center = 2 * R #так как ширине 4 * R\n",
    "\n",
    "def create_point(x, y, color, line): \n",
    "    c.create_oval(center + x + 1, center + y + 1, center + x - 1, center + y - 1, fill= color, outline=line) \n",
    "    #рисуем круг с радиусом 1, мысленно представляем, координаты кадрата, \n",
    "    #в который вписана окружность для определения верхнего левого и нижнего правого углов\n",
    "\n",
    "def calc_points(n): #определяем параметры случайных точек\n",
    "    ncircl1 = 0 # счетчик для точек в круге\n",
    "    lst = []  # пустой список для хранения информации о параметрах точки\n",
    "    for i in range(0, n): #цикл для создания параметров точки\n",
    "        x = uniform(-R, R) #координата центра по x(вся ширина квадрата)\n",
    "        y = uniform(-R, R) #координата центра по y(вся высота квадрата)\n",
    "        if sqrt(x ** 2 + y ** 2) < R: #проверка попала ли точка внутрь радиуса(площади круга)\n",
    "            ncircl1 += 1 #да, считаем сколько таких\n",
    "            color = \"medium violet red\" #задаем темно розовый цвет\n",
    "        else:\n",
    "            color = \"pink\" #нет, задаем светло розовый цвет\n",
    "        lst.append((x,y,color)) #добавляем параметры точки в список\n",
    "    return lst, ncircl1 #возвращаем список параметров точек и кол-во точек в круге\n",
    "\n",
    "\n",
    "def draw_point():\n",
    "    if points: #если список параметров точек непустой\n",
    "        x,y,color = points.pop() # то срезаем по одной точке для отрисовки\n",
    "        create_point(x, y, color, color) #рисуем одну, вызывая метод отрисовки, передавая в него параметры точки\n",
    "        window.after(1, draw_point)\n",
    "    else: #если список пустой, точки закончились и выводим значение пи\n",
    "        c.create_text(150, 500, anchor=W, font=\"Arial\",\n",
    "                      text=f\"Аппроксимация пи: {pi}\",fill=\"white\" )\n",
    "        \n",
    "        \n",
    "        \n",
    "points, ncircl = calc_points(n) #сначала рассчитаем координаты всех точек, цвет и посчитаем количество в круге\n",
    "pi = ncircl / n * 4 # вычислим ПИ\n",
    "print(pi)\n",
    "window.title(\"PI\")\n",
    "window.after(1, draw_point) #метод для отрисовки точек с задержкой по параметрам из списка\n",
    "# Запускаем главный цикл\n",
    "window.mainloop()\n"
   ]
  },
  {
   "cell_type": "markdown",
   "metadata": {},
   "source": [
    "Аппроксимация Экспоненты\n",
    "\n",
    "По теории Бернули: \n",
    "Если частоту начисления процентов бесконечно увеличивать, то процентный доход в случае сложного процента имеет предел(второй замечательный предел) lim n -> inf. (1 + 1/n)^n и этот предел равен числу e ~ 2,71828\n",
    "Пусть у нас будет 10 банков\n",
    "Изначально на депозите 1$\n",
    "Годовая ставка: 100%\n",
    "Каждый банк начисляет проценты разное количество раз  в год. Первый - 1 в год (1$ * 2 = 2$, последний - каждый день, тк банка, который начисляет проценты несколько раз в день - найти вероятно невозможно.  Итого это максимально возможная годова прибыль при 100 процентах годовых и максимальной частоте капитализации процентов"
   ]
  },
  {
   "cell_type": "code",
   "execution_count": 12,
   "metadata": {},
   "outputs": [
    {
     "name": "stdout",
     "output_type": "stream",
     "text": [
      "2.7145674820219727\n"
     ]
    }
   ],
   "source": [
    "from tkinter import *\n",
    "\n",
    "margin = 15\n",
    "start = 450\n",
    "dol = 150\n",
    "\n",
    "# Создаем окно программы\n",
    "root = Tk()\n",
    "root.title(\"E\")\n",
    "width = 1025 #ширина окна\n",
    "height = 550 #высота окна\n",
    "c = Canvas(root, width=width, height=height, bg=\"black\")\n",
    "\n",
    "\n",
    "def draw(i, max, x, color, interest): #метод для отрисовки\n",
    "    if i <= max: #рисуем внутри себя поочередно квадртаты, пока они не достигнут максимального значения \n",
    "        size = 15 #размер квадрата\n",
    "        x = x\n",
    "        y = start - i * size \n",
    "        c.create_text(x - 10, start + 5, anchor=NW, font=\"Arial\",\n",
    "                      text=f\"{interest}\", fill=\"white\") #печатает количество начислений в год\n",
    "        c.create_rectangle(x, y, x - 20, y - size, fill=color, outline=color) #отрисовываем квадрат\n",
    "        c.after(100, lambda: draw(i + 1, max, x, color, interest)) #вызываем с задержкой отрисовку следующего квадрата,\n",
    "        #передаем каждый раз i+1, чтобы сранивать с максимум и закончить отрисовку вовремя\n",
    "\n",
    "n_paying_interest = [1, 2, 3, 4, 6, 12, 24, 48, 182, 365] # Кол-во начислений в год\n",
    "colors = ['MediumPurple1', 'MediumPurple2', 'MediumPurple3', 'MediumPurple4', 'purple', 'violet red', 'VioletRed3',\n",
    "          'medium violet red', 'VioletRed2', 'pale violet red'] #Цвета для отрисовки\n",
    "\n",
    "limit = 0\n",
    "s = 1  # доллар\n",
    "\n",
    "for i in range(0, 10):\n",
    "    interest = n_paying_interest[i] # Кол-во начислений в год\n",
    "    m = (1 + 1 / interest) ** interest\n",
    "    summa = s * m #расчет годового дохода\n",
    "    if (summa) > limit: #находим максимально возможный доход\n",
    "        limit = s * m \n",
    "        \n",
    "    draw(0, summa * 10, 100 * i + 100, colors[i], interest) #передаем значения для отрисовки, сумму умножаем на 10 для масштаба\n",
    "    #второй элемент домножаем на 100 для шага\n",
    "\n",
    "c.create_text(350, 525, anchor=W, font=\"Arial\",\n",
    "              text=f\"Аппроксимация экспоненты: {limit}\", fill=\"fuchsia\") #вывод предела\n",
    "c.create_text(800, 485, anchor=NW, font=\"Arial\",\n",
    "              text=\"Кол-во начислений % в год\", fill=\"white\") #вывод кол-ва начислений в год\n",
    "c.create_text(margin, 485, anchor=NW, font=\"Arial\",\n",
    "              text=\"Доллар\", fill=\"white\") #название оси\n",
    "c.create_text(margin, margin, anchor=NW, font=\"Arial\",\n",
    "              text=\"\\n сложная ставка 100% годовых \\n Якоб Бернулли\", fill=\"white\") #название работы\n",
    "\n",
    "print(limit)\n",
    "\n",
    "c.create_rectangle(margin, dol - 15, width - margin, dol - 15, fill=\"fuchsia\", outline=\"fuchsia\") #линия 2 доллара\n",
    "c.create_rectangle(margin, start - (start - dol + 15) / 2, width - margin, start - (start - dol + 15) / 2,\n",
    "                   fill=\"fuchsia\",\n",
    "                   outline=\"fuchsia\") #линия 1 доллар\n",
    "c.create_rectangle(margin, start, width - margin, start, fill=\"fuchsia\", outline=\"fuchsia\") #линия 0\n",
    "c.pack()\n",
    "\n",
    "# Запускаем главный цикл\n",
    "root.mainloop()\n"
   ]
  },
  {
   "cell_type": "code",
   "execution_count": null,
   "metadata": {},
   "outputs": [],
   "source": []
  }
 ],
 "metadata": {
  "kernelspec": {
   "display_name": "Python 3",
   "language": "python",
   "name": "python3"
  },
  "language_info": {
   "codemirror_mode": {
    "name": "ipython",
    "version": 3
   },
   "file_extension": ".py",
   "mimetype": "text/x-python",
   "name": "python",
   "nbconvert_exporter": "python",
   "pygments_lexer": "ipython3",
   "version": "3.7.3"
  }
 },
 "nbformat": 4,
 "nbformat_minor": 2
}
